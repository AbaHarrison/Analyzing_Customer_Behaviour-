{
 "cells": [
  {
   "cell_type": "markdown",
   "id": "b2c9383e",
   "metadata": {},
   "source": [
    "# Importing packages"
   ]
  },
  {
   "cell_type": "code",
   "execution_count": 2,
   "id": "6e1a7171",
   "metadata": {},
   "outputs": [],
   "source": [
    "import pandas as pd\n",
    "import numpy as np\n",
    "import matplotlib.pyplot as plt\n",
    "import seaborn as sns\n",
    "from sklearn.model_selection import train_test_split\n",
    "from sklearn.ensemble import RandomForestClassifier\n",
    "from sklearn.metrics import classification_report\n",
    "\n",
    "from faker import Faker\n",
    "from random import randint, choice\n",
    "from datetime import datetime, timedelta"
   ]
  },
  {
   "cell_type": "markdown",
   "id": "cfc794df",
   "metadata": {},
   "source": [
    "# Generating Dataset"
   ]
  },
  {
   "cell_type": "code",
   "execution_count": null,
   "id": "8f75009b",
   "metadata": {},
   "outputs": [],
   "source": [
    "fake = Faker()\n",
    "np.random.seed(42)\n",
    "Faker.seed(42)\n",
    "\n",
    "num_customers = 10000\n",
    "num_sessions = 100000\n",
    "\n",
    "genders = ['Male', 'Female']\n",
    "locations = ['Accra', 'Takoradi', 'Sekondi', 'Tamale', 'Wa', 'Bolgatanga']\n",
    "devices = ['Desktop', 'Mobile', 'Tablet']\n",
    "payment_methods = ['Credit Card', 'Mobile Money', 'Cash on Delivery']\n",
    "product_categories = ['Kitchen Appliances', 'Clothing', 'Home', 'Bathroom', 'Footwears']\n",
    "\n",
    "\n",
    "\n",
    "customers = []\n",
    "for i in range(num_customers):\n",
    "    customers.append({\n",
    "        'customer_id': f\"CUST{i:05d}\",\n",
    "        'age': randint(18, 70),\n",
    "        'gender': choice(genders),\n",
    "        'location': choice(locations),\n",
    "        'customer_since': fake.date_between(start_date='-5y', end_date='-1y')\n",
    "    })\n",
    "customers_df = pd.DataFrame(customers)\n",
    "\n",
    "\n",
    "sessions = []\n",
    "for i in range(num_sessions):\n",
    "    cust = customers_df.sample(1).iloc[0]\n",
    "    session_start = fake.date_time_between(start_date='-1y', end_date='now')\n",
    "    duration = timedelta(minutes=randint(1, 60))\n",
    "    session_end = session_start + duration\n",
    "    viewed = randint(1, 10)\n",
    "    added = randint(0, viewed)\n",
    "    purchased = randint(0, added)\n",
    "    total_spent = round(purchased * randint(10, 100), 2)\n",
    "    churned = 1 if (datetime.now() - session_end).days > 60 and purchased == 0 else 0\n",
    "\n",
    "    sessions.append({\n",
    "        'session_id': f\"SESS{i:06d}\",\n",
    "        'customer_id': cust['customer_id'],\n",
    "        'session_start': session_start,\n",
    "        'session_end': session_end,\n",
    "        'pages_viewed': viewed + randint(1, 5),\n",
    "        'product_categories_viewed': choice(product_categories),\n",
    "        'products_added_to_cart': added,\n",
    "        'products_purchased': purchased,\n",
    "        'total_spent': total_spent,\n",
    "        'device_type': choice(devices),\n",
    "        'payment_method': choice(payment_methods),\n",
    "        'last_active_date': session_end,\n",
    "        'churned': churned\n",
    "    })\n",
    "\n",
    "sessions_df = pd.DataFrame(sessions)"
   ]
  },
  {
   "cell_type": "code",
   "execution_count": 4,
   "id": "752f8122",
   "metadata": {},
   "outputs": [
    {
     "name": "stdout",
     "output_type": "stream",
     "text": [
      "ecommerce_data.csv has been created with 100000 rows.\n"
     ]
    }
   ],
   "source": [
    "df = sessions_df.merge(customers_df, on='customer_id')\n",
    "df.to_csv(\"ecommerce_data.csv\", index=False)\n",
    "print(\"ecommerce_data.csv has been created with\", len(df), \"rows.\")\n"
   ]
  },
  {
   "cell_type": "markdown",
   "id": "3ebd21c3",
   "metadata": {},
   "source": [
    "# 1.\tData Analysis"
   ]
  },
  {
   "cell_type": "code",
   "execution_count": 5,
   "id": "2dbf0b3f",
   "metadata": {},
   "outputs": [
    {
     "data": {
      "text/html": [
       "<div>\n",
       "<style scoped>\n",
       "    .dataframe tbody tr th:only-of-type {\n",
       "        vertical-align: middle;\n",
       "    }\n",
       "\n",
       "    .dataframe tbody tr th {\n",
       "        vertical-align: top;\n",
       "    }\n",
       "\n",
       "    .dataframe thead th {\n",
       "        text-align: right;\n",
       "    }\n",
       "</style>\n",
       "<table border=\"1\" class=\"dataframe\">\n",
       "  <thead>\n",
       "    <tr style=\"text-align: right;\">\n",
       "      <th></th>\n",
       "      <th>session_id</th>\n",
       "      <th>customer_id</th>\n",
       "      <th>session_start</th>\n",
       "      <th>session_end</th>\n",
       "      <th>pages_viewed</th>\n",
       "      <th>product_categories_viewed</th>\n",
       "      <th>products_added_to_cart</th>\n",
       "      <th>products_purchased</th>\n",
       "      <th>total_spent</th>\n",
       "      <th>device_type</th>\n",
       "      <th>payment_method</th>\n",
       "      <th>last_active_date</th>\n",
       "      <th>churned</th>\n",
       "      <th>age</th>\n",
       "      <th>gender</th>\n",
       "      <th>location</th>\n",
       "      <th>customer_since</th>\n",
       "    </tr>\n",
       "  </thead>\n",
       "  <tbody>\n",
       "    <tr>\n",
       "      <th>0</th>\n",
       "      <td>SESS000000</td>\n",
       "      <td>CUST06252</td>\n",
       "      <td>2024-11-15 05:48:45</td>\n",
       "      <td>2024-11-15 05:49:45</td>\n",
       "      <td>8</td>\n",
       "      <td>Kitchen Appliances</td>\n",
       "      <td>0</td>\n",
       "      <td>0</td>\n",
       "      <td>0</td>\n",
       "      <td>Mobile</td>\n",
       "      <td>Credit Card</td>\n",
       "      <td>2024-11-15 05:49:45</td>\n",
       "      <td>1</td>\n",
       "      <td>32</td>\n",
       "      <td>Female</td>\n",
       "      <td>Accra</td>\n",
       "      <td>2023-07-10</td>\n",
       "    </tr>\n",
       "    <tr>\n",
       "      <th>1</th>\n",
       "      <td>SESS000001</td>\n",
       "      <td>CUST06366</td>\n",
       "      <td>2025-01-26 06:56:48</td>\n",
       "      <td>2025-01-26 07:38:48</td>\n",
       "      <td>10</td>\n",
       "      <td>Footwears</td>\n",
       "      <td>1</td>\n",
       "      <td>1</td>\n",
       "      <td>53</td>\n",
       "      <td>Tablet</td>\n",
       "      <td>Mobile Money</td>\n",
       "      <td>2025-01-26 07:38:48</td>\n",
       "      <td>0</td>\n",
       "      <td>33</td>\n",
       "      <td>Male</td>\n",
       "      <td>Accra</td>\n",
       "      <td>2021-09-09</td>\n",
       "    </tr>\n",
       "    <tr>\n",
       "      <th>2</th>\n",
       "      <td>SESS000002</td>\n",
       "      <td>CUST08740</td>\n",
       "      <td>2025-02-15 11:44:42</td>\n",
       "      <td>2025-02-15 12:15:42</td>\n",
       "      <td>15</td>\n",
       "      <td>Footwears</td>\n",
       "      <td>4</td>\n",
       "      <td>1</td>\n",
       "      <td>40</td>\n",
       "      <td>Tablet</td>\n",
       "      <td>Credit Card</td>\n",
       "      <td>2025-02-15 12:15:42</td>\n",
       "      <td>0</td>\n",
       "      <td>57</td>\n",
       "      <td>Female</td>\n",
       "      <td>Sekondi</td>\n",
       "      <td>2021-12-06</td>\n",
       "    </tr>\n",
       "    <tr>\n",
       "      <th>3</th>\n",
       "      <td>SESS000003</td>\n",
       "      <td>CUST04449</td>\n",
       "      <td>2024-08-29 02:37:31</td>\n",
       "      <td>2024-08-29 03:17:31</td>\n",
       "      <td>7</td>\n",
       "      <td>Home</td>\n",
       "      <td>5</td>\n",
       "      <td>2</td>\n",
       "      <td>40</td>\n",
       "      <td>Desktop</td>\n",
       "      <td>Credit Card</td>\n",
       "      <td>2024-08-29 03:17:31</td>\n",
       "      <td>0</td>\n",
       "      <td>21</td>\n",
       "      <td>Female</td>\n",
       "      <td>Tamale</td>\n",
       "      <td>2020-09-11</td>\n",
       "    </tr>\n",
       "    <tr>\n",
       "      <th>4</th>\n",
       "      <td>SESS000004</td>\n",
       "      <td>CUST08718</td>\n",
       "      <td>2025-02-17 23:27:53</td>\n",
       "      <td>2025-02-18 00:08:53</td>\n",
       "      <td>5</td>\n",
       "      <td>Clothing</td>\n",
       "      <td>4</td>\n",
       "      <td>1</td>\n",
       "      <td>28</td>\n",
       "      <td>Desktop</td>\n",
       "      <td>Credit Card</td>\n",
       "      <td>2025-02-18 00:08:53</td>\n",
       "      <td>0</td>\n",
       "      <td>19</td>\n",
       "      <td>Female</td>\n",
       "      <td>Bolgatanga</td>\n",
       "      <td>2022-06-02</td>\n",
       "    </tr>\n",
       "  </tbody>\n",
       "</table>\n",
       "</div>"
      ],
      "text/plain": [
       "   session_id customer_id       session_start         session_end  \\\n",
       "0  SESS000000   CUST06252 2024-11-15 05:48:45 2024-11-15 05:49:45   \n",
       "1  SESS000001   CUST06366 2025-01-26 06:56:48 2025-01-26 07:38:48   \n",
       "2  SESS000002   CUST08740 2025-02-15 11:44:42 2025-02-15 12:15:42   \n",
       "3  SESS000003   CUST04449 2024-08-29 02:37:31 2024-08-29 03:17:31   \n",
       "4  SESS000004   CUST08718 2025-02-17 23:27:53 2025-02-18 00:08:53   \n",
       "\n",
       "   pages_viewed product_categories_viewed  products_added_to_cart  \\\n",
       "0             8        Kitchen Appliances                       0   \n",
       "1            10                 Footwears                       1   \n",
       "2            15                 Footwears                       4   \n",
       "3             7                      Home                       5   \n",
       "4             5                  Clothing                       4   \n",
       "\n",
       "   products_purchased  total_spent device_type payment_method  \\\n",
       "0                   0            0      Mobile    Credit Card   \n",
       "1                   1           53      Tablet   Mobile Money   \n",
       "2                   1           40      Tablet    Credit Card   \n",
       "3                   2           40     Desktop    Credit Card   \n",
       "4                   1           28     Desktop    Credit Card   \n",
       "\n",
       "     last_active_date  churned  age  gender    location customer_since  \n",
       "0 2024-11-15 05:49:45        1   32  Female       Accra     2023-07-10  \n",
       "1 2025-01-26 07:38:48        0   33    Male       Accra     2021-09-09  \n",
       "2 2025-02-15 12:15:42        0   57  Female     Sekondi     2021-12-06  \n",
       "3 2024-08-29 03:17:31        0   21  Female      Tamale     2020-09-11  \n",
       "4 2025-02-18 00:08:53        0   19  Female  Bolgatanga     2022-06-02  "
      ]
     },
     "execution_count": 5,
     "metadata": {},
     "output_type": "execute_result"
    }
   ],
   "source": [
    "df = pd.read_csv(\"ecommerce_data.csv\", parse_dates=[\"session_start\", \"session_end\", \"customer_since\", \"last_active_date\"])\n",
    "df.head()"
   ]
  },
  {
   "cell_type": "code",
   "execution_count": 6,
   "id": "d3f3c856",
   "metadata": {},
   "outputs": [
    {
     "name": "stdout",
     "output_type": "stream",
     "text": [
      "Rows: 100000, Columns: 17\n",
      "<class 'pandas.core.frame.DataFrame'>\n",
      "RangeIndex: 100000 entries, 0 to 99999\n",
      "Data columns (total 17 columns):\n",
      " #   Column                     Non-Null Count   Dtype         \n",
      "---  ------                     --------------   -----         \n",
      " 0   session_id                 100000 non-null  object        \n",
      " 1   customer_id                100000 non-null  object        \n",
      " 2   session_start              100000 non-null  datetime64[ns]\n",
      " 3   session_end                100000 non-null  datetime64[ns]\n",
      " 4   pages_viewed               100000 non-null  int64         \n",
      " 5   product_categories_viewed  100000 non-null  object        \n",
      " 6   products_added_to_cart     100000 non-null  int64         \n",
      " 7   products_purchased         100000 non-null  int64         \n",
      " 8   total_spent                100000 non-null  int64         \n",
      " 9   device_type                100000 non-null  object        \n",
      " 10  payment_method             100000 non-null  object        \n",
      " 11  last_active_date           100000 non-null  datetime64[ns]\n",
      " 12  churned                    100000 non-null  int64         \n",
      " 13  age                        100000 non-null  int64         \n",
      " 14  gender                     100000 non-null  object        \n",
      " 15  location                   100000 non-null  object        \n",
      " 16  customer_since             100000 non-null  datetime64[ns]\n",
      "dtypes: datetime64[ns](4), int64(6), object(7)\n",
      "memory usage: 13.0+ MB\n"
     ]
    },
    {
     "data": {
      "text/plain": [
       "0"
      ]
     },
     "execution_count": 6,
     "metadata": {},
     "output_type": "execute_result"
    }
   ],
   "source": [
    "# Basic shape and data types\n",
    "print(f\"Rows: {df.shape[0]}, Columns: {df.shape[1]}\")\n",
    "df.info()\n",
    "\n",
    "# Summary statistics\n",
    "df.describe(include='all').T\n",
    "\n",
    "# Missing values\n",
    "df.isnull().sum()\n",
    "\n",
    "# Duplicate checks\n",
    "df.duplicated().sum()\n"
   ]
  },
  {
   "cell_type": "markdown",
   "id": "7484ec25",
   "metadata": {},
   "source": [
    "# 2.\tFeature Engineering:"
   ]
  },
  {
   "cell_type": "code",
   "execution_count": null,
   "id": "cc4d8a78",
   "metadata": {},
   "outputs": [
    {
     "data": {
      "text/html": [
       "<div>\n",
       "<style scoped>\n",
       "    .dataframe tbody tr th:only-of-type {\n",
       "        vertical-align: middle;\n",
       "    }\n",
       "\n",
       "    .dataframe tbody tr th {\n",
       "        vertical-align: top;\n",
       "    }\n",
       "\n",
       "    .dataframe thead th {\n",
       "        text-align: right;\n",
       "    }\n",
       "</style>\n",
       "<table border=\"1\" class=\"dataframe\">\n",
       "  <thead>\n",
       "    <tr style=\"text-align: right;\">\n",
       "      <th></th>\n",
       "      <th>session_duration</th>\n",
       "      <th>days_since_last_active</th>\n",
       "      <th>spend_per_product</th>\n",
       "    </tr>\n",
       "  </thead>\n",
       "  <tbody>\n",
       "    <tr>\n",
       "      <th>count</th>\n",
       "      <td>100000.000000</td>\n",
       "      <td>100000.00000</td>\n",
       "      <td>56796.000000</td>\n",
       "    </tr>\n",
       "    <tr>\n",
       "      <th>mean</th>\n",
       "      <td>30.510260</td>\n",
       "      <td>182.13695</td>\n",
       "      <td>54.872192</td>\n",
       "    </tr>\n",
       "    <tr>\n",
       "      <th>std</th>\n",
       "      <td>17.310587</td>\n",
       "      <td>105.46436</td>\n",
       "      <td>26.254250</td>\n",
       "    </tr>\n",
       "    <tr>\n",
       "      <th>min</th>\n",
       "      <td>1.000000</td>\n",
       "      <td>-1.00000</td>\n",
       "      <td>10.000000</td>\n",
       "    </tr>\n",
       "    <tr>\n",
       "      <th>25%</th>\n",
       "      <td>16.000000</td>\n",
       "      <td>91.00000</td>\n",
       "      <td>32.000000</td>\n",
       "    </tr>\n",
       "    <tr>\n",
       "      <th>50%</th>\n",
       "      <td>31.000000</td>\n",
       "      <td>182.00000</td>\n",
       "      <td>55.000000</td>\n",
       "    </tr>\n",
       "    <tr>\n",
       "      <th>75%</th>\n",
       "      <td>45.000000</td>\n",
       "      <td>273.00000</td>\n",
       "      <td>78.000000</td>\n",
       "    </tr>\n",
       "    <tr>\n",
       "      <th>max</th>\n",
       "      <td>60.000000</td>\n",
       "      <td>365.00000</td>\n",
       "      <td>100.000000</td>\n",
       "    </tr>\n",
       "  </tbody>\n",
       "</table>\n",
       "</div>"
      ],
      "text/plain": [
       "       session_duration  days_since_last_active  spend_per_product\n",
       "count     100000.000000            100000.00000       56796.000000\n",
       "mean          30.510260               182.13695          54.872192\n",
       "std           17.310587               105.46436          26.254250\n",
       "min            1.000000                -1.00000          10.000000\n",
       "25%           16.000000                91.00000          32.000000\n",
       "50%           31.000000               182.00000          55.000000\n",
       "75%           45.000000               273.00000          78.000000\n",
       "max           60.000000               365.00000         100.000000"
      ]
     },
     "execution_count": 7,
     "metadata": {},
     "output_type": "execute_result"
    }
   ],
   "source": [
    "df['session_duration'] = (df['session_end'] - df['session_start']).dt.total_seconds() / 60\n",
    "\n",
    "df['days_since_last_active'] = (pd.Timestamp.now() - df['last_active_date']).dt.days\n",
    "\n",
    "df['spend_per_product'] = df['total_spent'] / df['products_purchased'].replace(0, np.nan)\n",
    "\n",
    "df[['session_duration', 'days_since_last_active', 'spend_per_product']].describe()"
   ]
  },
  {
   "cell_type": "markdown",
   "id": "3cdca4e2",
   "metadata": {},
   "source": [
    "# 3.\tPredictive Modeling:"
   ]
  },
  {
   "cell_type": "code",
   "execution_count": 8,
   "id": "ea6f6a7e",
   "metadata": {},
   "outputs": [
    {
     "data": {
      "image/png": "[encoded data removed]",
      "text/plain": [
       "<Figure size 640x480 with 1 Axes>"
      ]
     },
     "metadata": {},
     "output_type": "display_data"
    },
    {
     "data": {
      "image/png": "[encoded data removed]",
      "text/plain": [
       "<Figure size 640x480 with 1 Axes>"
      ]
     },
     "metadata": {},
     "output_type": "display_data"
    },
    {
     "data": {
      "image/png": "[encoded data removed]",
      "text/plain": [
       "<Figure size 640x480 with 1 Axes>"
      ]
     },
     "metadata": {},
     "output_type": "display_data"
    }
   ],
   "source": [
    "# Churn distribution\n",
    "sns.countplot(data=df, x='churned')\n",
    "plt.title(\"Churn Distribution\")\n",
    "plt.show()\n",
    "\n",
    "# Average spend by churn\n",
    "sns.barplot(data=df, x='churned', y='total_spent')\n",
    "plt.title(\"Total Spend vs. Churn\")\n",
    "plt.show()\n",
    "\n",
    "# Session duration vs. purchases\n",
    "sns.boxplot(data=df, x='churned', y='session_duration')\n",
    "plt.title(\"Session Duration by Churn Status\")\n",
    "plt.show()\n"
   ]
  },
  {
   "cell_type": "code",
   "execution_count": null,
   "id": "959c344f",
   "metadata": {},
   "outputs": [
    {
     "name": "stdout",
     "output_type": "stream",
     "text": [
      "              precision    recall  f1-score   support\n",
      "\n",
      "           0       0.96      0.89      0.93     12740\n",
      "           1       0.83      0.94      0.88      7260\n",
      "\n",
      "    accuracy                           0.91     20000\n",
      "   macro avg       0.90      0.92      0.91     20000\n",
      "weighted avg       0.92      0.91      0.91     20000\n",
      "\n"
     ]
    }
   ],
   "source": [
    "features = ['age', 'session_duration', 'pages_viewed', 'products_added_to_cart', 'products_purchased', 'total_spent']\n",
    "X = df[features].fillna(0)\n",
    "y = df['churned']\n",
    "\n",
    "X_train, X_test, y_train, y_test = train_test_split(X, y, test_size=0.2, random_state=42)\n",
    "model = RandomForestClassifier(n_estimators=100, random_state=42)\n",
    "model.fit(X_train, y_train)\n",
    "\n",
    "y_pred = model.predict(X_test)\n",
    "print(classification_report(y_test, y_pred))\n"
   ]
  },
  {
   "cell_type": "markdown",
   "id": "76affa3e",
   "metadata": {},
   "source": [
    "# 4.\tBig Data Tool Utilization: Connecting to Elasticsearch"
   ]
  },
  {
   "cell_type": "code",
   "execution_count": null,
   "id": "1e92a62d",
   "metadata": {},
   "outputs": [],
   "source": [
    "! pip install elasticsearch==8.13.2"
   ]
  },
  {
   "cell_type": "code",
   "execution_count": null,
   "id": "ff98c465",
   "metadata": {},
   "outputs": [
    {
     "name": "stdout",
     "output_type": "stream",
     "text": [
      "Data uploaded to Elasticsearch successfully!\n"
     ]
    }
   ],
   "source": [
    "from elasticsearch import Elasticsearch\n",
    "from elasticsearch.helpers import bulk\n",
    "\n",
    "df = pd.read_csv(\"ecommerce_data.csv\")\n",
    "es = Elasticsearch(\"http://localhost:9200\")\n",
    "\n",
    "es.indices.create(index=\"ecommerce\")\n",
    "\n",
    "def df_to_elasticsearch_docs(df):\n",
    "    for i, row in df.iterrows():\n",
    "        yield {\n",
    "            \"_index\": \"ecommerce\",\n",
    "            \"_id\": i,\n",
    "            \"_source\": row.to_dict()\n",
    "        }\n",
    "bulk(es, df_to_elasticsearch_docs(df))\n",
    "print(\"Data uploaded to Elasticsearch!\")\n"
   ]
  },
  {
   "cell_type": "code",
   "execution_count": null,
   "id": "59d6e231",
   "metadata": {},
   "outputs": [
    {
     "name": "stdout",
     "output_type": "stream",
     "text": [
      "Name: elasticsearch\n",
      "Version: 8.13.2\n",
      "Summary: Python client for Elasticsearch\n",
      "Home-page: https://github.com/elastic/elasticsearch-py\n",
      "Author: Elastic Client Library Maintainers\n",
      "Author-email: client-libs@elastic.co\n",
      "License: Apache-2.0\n",
      "Location: C:\\Users\\Nana Aba_ Remotown\\anaconda3\\Lib\\site-packages\n",
      "Requires: elastic-transport\n",
      "Required-by: \n"
     ]
    }
   ],
   "source": [
    "! pip show elasticsearch"
   ]
  },
  {
   "cell_type": "code",
   "execution_count": null,
   "id": "5a5c1c56",
   "metadata": {},
   "outputs": [
    {
     "name": "stdout",
     "output_type": "stream",
     "text": [
      "{'count': 100000, '_shards': {'total': 1, 'successful': 1, 'skipped': 0, 'failed': 0}}\n",
      "{'took': 920, 'timed_out': False, '_shards': {'total': 1, 'successful': 1, 'skipped': 0, 'failed': 0}, 'hits': {'total': {'value': 10000, 'relation': 'gte'}, 'max_score': 1.0, 'hits': [{'_index': 'ecommerce', '_id': '3661', '_score': 1.0, '_source': {'session_id': 'SESS003661', 'customer_id': 'CUST04381', 'session_start': '2024-11-14 10:29:35', 'session_end': '2024-11-14 10:55:35', 'pages_viewed': 4, 'product_categories_viewed': 'Home', 'products_added_to_cart': 2, 'products_purchased': 0, 'total_spent': 0, 'device_type': 'Desktop', 'payment_method': 'Mobile Money', 'last_active_date': '2024-11-14 10:55:35', 'churned': 1, 'age': 43, 'gender': 'Female', 'location': 'Tamale', 'customer_since': '2023-06-18'}}]}}\n"
     ]
    }
   ],
   "source": [
    "print(es.count(index=\"ecommerce\"))     \n",
    "print(es.search(index=\"ecommerce\", size=1))  "
   ]
  },
  {
   "cell_type": "code",
   "execution_count": 10,
   "id": "50240c89",
   "metadata": {},
   "outputs": [
    {
     "name": "stdout",
     "output_type": "stream",
     "text": [
      "[{'key': 'Male', 'doc_count': 50532}, {'key': 'Female', 'doc_count': 49468}]\n"
     ]
    }
   ],
   "source": [
    "query = {\n",
    "    \"size\": 0,\n",
    "    \"aggs\": {\n",
    "        \"gender_distribution\": {\n",
    "            \"terms\": {\n",
    "                \"field\": \"gender.keyword\"\n",
    "            }\n",
    "        }\n",
    "    }\n",
    "}\n",
    "\n",
    "response = es.search(index=\"ecommerce\", body=query)\n",
    "print(response[\"aggregations\"][\"gender_distribution\"][\"buckets\"])\n"
   ]
  }
 ],
 "metadata": {
  "kernelspec": {
   "display_name": "base",
   "language": "python",
   "name": "python3"
  },
  "language_info": {
   "codemirror_mode": {
    "name": "ipython",
    "version": 3
   },
   "file_extension": ".py",
   "mimetype": "text/x-python",
   "name": "python",
   "nbconvert_exporter": "python",
   "pygments_lexer": "ipython3",
   "version": "3.12.4"
  }
 },
 "nbformat": 4,
 "nbformat_minor": 5
}
